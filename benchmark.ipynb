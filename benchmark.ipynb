{
 "cells": [
  {
   "cell_type": "code",
   "execution_count": 1,
   "id": "4e7bd8f0",
   "metadata": {
    "execution": {
     "iopub.execute_input": "2021-10-10T01:21:38.799392Z",
     "iopub.status.busy": "2021-10-10T01:21:38.799010Z",
     "iopub.status.idle": "2021-10-10T01:21:38.804932Z",
     "shell.execute_reply": "2021-10-10T01:21:38.804410Z",
     "shell.execute_reply.started": "2021-10-10T01:21:38.799332Z"
    }
   },
   "outputs": [],
   "source": [
    "# Benchmark neural network models"
   ]
  },
  {
   "cell_type": "code",
   "execution_count": 2,
   "id": "ec296dd8",
   "metadata": {
    "execution": {
     "iopub.execute_input": "2021-10-10T01:21:38.807731Z",
     "iopub.status.busy": "2021-10-10T01:21:38.807510Z",
     "iopub.status.idle": "2021-10-10T01:21:41.792446Z",
     "shell.execute_reply": "2021-10-10T01:21:41.791840Z",
     "shell.execute_reply.started": "2021-10-10T01:21:38.807712Z"
    }
   },
   "outputs": [],
   "source": [
    "import os\n",
    "import datetime as dt\n",
    "import matplotlib.pyplot as plt\n",
    "import numpy as np\n",
    "import pandas as pd\n",
    "from sklearn.metrics import mean_squared_error\n",
    "from nn_functions import (\n",
    "    predict_batch,\n",
    "    train_nn_models,\n",
    "    define_model,\n",
    "    load_models,\n",
    ")"
   ]
  },
  {
   "cell_type": "code",
   "execution_count": 3,
   "id": "3077263d",
   "metadata": {
    "execution": {
     "iopub.execute_input": "2021-10-10T01:21:41.793870Z",
     "iopub.status.busy": "2021-10-10T01:21:41.793644Z",
     "iopub.status.idle": "2021-10-10T01:21:41.798192Z",
     "shell.execute_reply": "2021-10-10T01:21:41.796796Z",
     "shell.execute_reply.started": "2021-10-10T01:21:41.793844Z"
    }
   },
   "outputs": [],
   "source": [
    "# download and save data\n",
    "# !wget https://ngdc.noaa.gov/geomag/data/geomag/public.zip\n",
    "# !unzip public.zip\n",
    "# !wget https://ngdc.noaa.gov/geomag/data/geomag/private.zip\n",
    "# !unzip private.zip\n",
    "# !mkdir data2\n",
    "# !mv public data2\n",
    "# !mv private data2"
   ]
  },
  {
   "cell_type": "code",
   "execution_count": 4,
   "id": "6c2ded7c",
   "metadata": {
    "execution": {
     "iopub.execute_input": "2021-10-10T01:32:51.228014Z",
     "iopub.status.busy": "2021-10-10T01:32:51.227712Z",
     "iopub.status.idle": "2021-10-10T01:33:11.102661Z",
     "shell.execute_reply": "2021-10-10T01:33:11.101988Z",
     "shell.execute_reply.started": "2021-10-10T01:32:51.227984Z"
    }
   },
   "outputs": [],
   "source": [
    "# load data\n",
    "data_folder = \"data\"\n",
    "solar_train = pd.read_csv(os.path.join(data_folder, \"public\", \"solar_wind.csv\"))\n",
    "dst_train = pd.read_csv(os.path.join(data_folder, \"public\", \"dst_labels.csv\"))\n",
    "sunspots_train = pd.read_csv(os.path.join(data_folder, \"public\", \"sunspots.csv\"))\n",
    "solar_test = pd.read_csv(os.path.join(data_folder, \"private\", \"solar_wind.csv\"))\n",
    "dst_test = pd.read_csv(os.path.join(data_folder, \"private\", \"dst_labels.csv\"))\n",
    "sunspots_test = pd.read_csv(os.path.join(data_folder, \"private\", \"sunspots.csv\"))"
   ]
  },
  {
   "cell_type": "code",
   "execution_count": 5,
   "id": "7442adc4",
   "metadata": {
    "execution": {
     "iopub.execute_input": "2021-10-10T01:26:40.906992Z",
     "iopub.status.busy": "2021-10-10T01:26:40.906706Z"
    }
   },
   "outputs": [],
   "source": [
    "# train and save models\n",
    "output_folder = os.path.join(\"trained_models\", \"cnn\", \"benchmark\")\n",
    "os.makedirs(output_folder, exist_ok=True)\n",
    "# comment out training if model is already saved on disk\n",
    "# train_nn_models(solar_train, sunspots_train, dst_train, define_model_cnn, 1, output_folder)"
   ]
  },
  {
   "cell_type": "code",
   "execution_count": 6,
   "id": "0d4a7dfb",
   "metadata": {
    "execution": {
     "iopub.execute_input": "2021-10-10T01:33:11.104655Z",
     "iopub.status.busy": "2021-10-10T01:33:11.104234Z",
     "iopub.status.idle": "2021-10-10T01:34:44.907607Z",
     "shell.execute_reply": "2021-10-10T01:34:44.906363Z",
     "shell.execute_reply.started": "2021-10-10T01:33:11.104624Z"
    }
   },
   "outputs": [
    {
     "name": "stdout",
     "output_type": "stream",
     "text": [
      "Performance for t: 12.191240060717803\n",
      "Performance for t plus 1: 12.23004365012702\n"
     ]
    }
   ],
   "source": [
    "# measure performance on train and test\n",
    "model_t_arr, model_t_plus_1_arr, norm_df = load_models(output_folder, 1)\n",
    "dst_test[\"timedelta\"] = pd.to_timedelta(dst_test[\"timedelta\"])\n",
    "# exclude times in the first week of dst_test\n",
    "dst_test = dst_test.loc[dst_test[\"timedelta\"] >= dt.timedelta(days=7)]\n",
    "predictions = predict_batch(\n",
    "    solar_test, sunspots_test, dst_test, model_t_arr, model_t_plus_1_arr, norm_df\n",
    ")\n",
    "dst_test = pd.merge(dst_test, predictions, \"left\", [\"timedelta\", \"period\"])\n",
    "dst_test[\"dst_t_plus_1\"] = dst_test.groupby(\"period\")[\"dst\"].shift(-1)\n",
    "loss_t = np.sqrt(\n",
    "    mean_squared_error(dst_test[\"dst\"].values, dst_test[\"prediction_t\"].values)\n",
    ")\n",
    "print(f\"Performance for time t: {loss_t}\")\n",
    "valid_ind = dst_test[\"dst_t_plus_1\"].notnull()\n",
    "loss_t_plus_1 = np.sqrt(\n",
    "    mean_squared_error(\n",
    "        dst_test.loc[valid_ind, \"dst_t_plus_1\"].values,\n",
    "        dst_test.loc[valid_ind, \"prediction_t_plus_1\"].values,\n",
    "    )\n",
    ")\n",
    "print(f\"Performance for time (t + 1): {loss_t_plus_1}\")"
   ]
  },
  {
   "cell_type": "code",
   "execution_count": 7,
   "id": "11d8cb76",
   "metadata": {
    "execution": {
     "iopub.execute_input": "2021-10-10T01:23:39.137740Z",
     "iopub.status.busy": "2021-10-10T01:23:39.137501Z",
     "iopub.status.idle": "2021-10-10T01:23:39.626982Z",
     "shell.execute_reply": "2021-10-10T01:23:39.626443Z",
     "shell.execute_reply.started": "2021-10-10T01:23:39.137711Z"
    }
   },
   "outputs": [
    {
     "data": {
      "text/plain": [
       "<matplotlib.legend.Legend at 0x1a30c271700>"
      ]
     },
     "execution_count": 7,
     "metadata": {},
     "output_type": "execute_result"
    },
    {
     "data": {
      "image/png": "[encoded data removed]",
      "text/plain": [
       "<Figure size 432x288 with 1 Axes>"
      ]
     },
     "metadata": {
      "needs_background": "light"
     },
     "output_type": "display_data"
    }
   ],
   "source": [
    "plt.figure()\n",
    "plt.plot(dst_test.loc[valid_ind, \"dst\"].values)\n",
    "plt.plot(dst_test.loc[valid_ind, \"prediction_t\"].values)\n",
    "plt.legend([\"actual\", \"predicted\"])"
   ]
  },
  {
   "cell_type": "code",
   "execution_count": null,
   "id": "8c4ed70d",
   "metadata": {},
   "outputs": [],
   "source": []
  }
 ],
 "metadata": {
  "kernelspec": {
   "display_name": "Python 3",
   "language": "python",
   "name": "python3"
  },
  "language_info": {
   "codemirror_mode": {
    "name": "ipython",
    "version": 3
   },
   "file_extension": ".py",
   "mimetype": "text/x-python",
   "name": "python",
   "nbconvert_exporter": "python",
   "pygments_lexer": "ipython3",
   "version": "3.8.8"
  }
 },
 "nbformat": 4,
 "nbformat_minor": 5
}
