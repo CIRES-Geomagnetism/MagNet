{
 "cells": [
  {
   "cell_type": "markdown",
   "id": "c044e042",
   "metadata": {
    "execution": {
     "iopub.execute_input": "2021-10-17T05:43:21.360963Z",
     "iopub.status.busy": "2021-10-17T05:43:21.360743Z",
     "iopub.status.idle": "2021-10-17T05:43:21.363941Z",
     "shell.execute_reply": "2021-10-17T05:43:21.363385Z",
     "shell.execute_reply.started": "2021-10-17T05:43:21.360899Z"
    }
   },
   "source": [
    "# Test whether including old data improves performance\n",
    "\n",
    "We have data from 1963-1997, but only at hourly frequency (whereas the competition data is a 1-minute frequency). This notebook tests whether an hourly model using all the data is better than a high-frequency model trained only on the recent data."
   ]
  },
  {
   "cell_type": "code",
   "execution_count": 1,
   "id": "94766e85",
   "metadata": {
    "execution": {
     "iopub.execute_input": "2021-10-24T03:59:09.308731Z",
     "iopub.status.busy": "2021-10-24T03:59:09.308545Z",
     "iopub.status.idle": "2021-10-24T03:59:11.216981Z",
     "shell.execute_reply": "2021-10-24T03:59:11.216429Z",
     "shell.execute_reply.started": "2021-10-24T03:59:09.308687Z"
    }
   },
   "outputs": [],
   "source": [
    "%load_ext autoreload\n",
    "%autoreload 2\n",
    "\n",
    "import os\n",
    "import datetime as dt\n",
    "import numpy as np\n",
    "import pandas as pd\n",
    "from sklearn.metrics import mean_squared_error\n",
    "from model_definitions import define_model_cnn_1_min, define_model_cnn_hourly\n",
    "from predict import load_models, predict_batch\n",
    "from train import train_nn_models\n",
    "import time\n",
    "from typing import Callable, Tuple\n",
    "import tensorflow as tf\n",
    "from plotting import plot_binned_RMSE\n",
    "import matplotlib.pyplot as plt\n"
   ]
  },
  {
   "cell_type": "code",
   "execution_count": 2,
   "id": "ae478390",
   "metadata": {
    "execution": {
     "iopub.execute_input": "2021-10-24T03:59:11.218192Z",
     "iopub.status.busy": "2021-10-24T03:59:11.218012Z",
     "iopub.status.idle": "2021-10-24T03:59:11.249068Z",
     "shell.execute_reply": "2021-10-24T03:59:11.248522Z",
     "shell.execute_reply.started": "2021-10-24T03:59:11.218172Z"
    }
   },
   "outputs": [],
   "source": [
    "# download and save data\n",
    "# !wget https://ngdc.noaa.gov/geomag/data/geomag/magnet/public.zip\n",
    "# !unzip public.zip\n",
    "# !wget https://ngdc.noaa.gov/geomag/data/geomag/magnet/private.zip\n",
    "# !unzip private.zip\n",
    "# !mkdir data\n",
    "# !mv public data\n",
    "# !mv private data"
   ]
  },
  {
   "cell_type": "code",
   "execution_count": 3,
   "id": "5a75aff1",
   "metadata": {
    "execution": {
     "iopub.execute_input": "2021-10-24T03:59:11.250323Z",
     "iopub.status.busy": "2021-10-24T03:59:11.250169Z",
     "iopub.status.idle": "2021-10-24T03:59:28.358305Z",
     "shell.execute_reply": "2021-10-24T03:59:28.357749Z",
     "shell.execute_reply.started": "2021-10-24T03:59:11.250306Z"
    }
   },
   "outputs": [],
   "source": [
    "# load recent data\n",
    "data_folder = \"data\"\n",
    "solar_train = pd.read_csv(os.path.join(data_folder, \"public\", \"solar_wind.csv\"))\n",
    "dst_train = pd.read_csv(os.path.join(data_folder, \"public\", \"dst_labels.csv\"))\n",
    "sunspots_train = pd.read_csv(os.path.join(data_folder, \"public\", \"sunspots.csv\"))\n",
    "solar_test = pd.read_csv(os.path.join(data_folder, \"private\", \"solar_wind.csv\"))\n",
    "dst_test = pd.read_csv(os.path.join(data_folder, \"private\", \"dst_labels.csv\"))\n",
    "sunspots_test = pd.read_csv(os.path.join(data_folder, \"private\", \"sunspots.csv\"))"
   ]
  },
  {
   "cell_type": "code",
   "execution_count": 4,
   "id": "e368109a",
   "metadata": {
    "execution": {
     "iopub.execute_input": "2021-10-24T03:59:28.359484Z",
     "iopub.status.busy": "2021-10-24T03:59:28.359307Z",
     "iopub.status.idle": "2021-10-24T04:03:12.245834Z",
     "shell.execute_reply": "2021-10-24T04:03:12.245166Z",
     "shell.execute_reply.started": "2021-10-24T03:59:28.359464Z"
    }
   },
   "outputs": [
    {
     "name": "stdout",
     "output_type": "stream",
     "text": [
      "Epoch 1/2\n",
      "4350/4350 [==============================] - 20s 4ms/step - loss: 127.8448 - root_mean_squared_error: 11.1653\n",
      "Epoch 2/2\n",
      "4350/4350 [==============================] - 16s 4ms/step - loss: 74.5603 - root_mean_squared_error: 8.6346\n",
      "Epoch 1/2\n",
      "4350/4350 [==============================] - 17s 4ms/step - loss: 128.1107 - root_mean_squared_error: 11.1864\n",
      "Epoch 2/2\n",
      "4350/4350 [==============================] - 16s 4ms/step - loss: 78.1460 - root_mean_squared_error: 8.8385\n"
     ]
    }
   ],
   "source": [
    "# train 1-minute model\n",
    "output_folder = os.path.join(\"trained_models\", \"cnn_1_minute\", \"benchmark\")\n",
    "os.makedirs(output_folder, exist_ok=True)\n",
    "train_nn_models(solar_train, sunspots_train, dst_train, define_model_cnn_1_min, 1, output_folder, \"minute\")"
   ]
  },
  {
   "cell_type": "code",
   "execution_count": 5,
   "id": "876ae75f",
   "metadata": {
    "execution": {
     "iopub.execute_input": "2021-10-24T04:03:12.247781Z",
     "iopub.status.busy": "2021-10-24T04:03:12.247580Z",
     "iopub.status.idle": "2021-10-24T04:04:37.165587Z",
     "shell.execute_reply": "2021-10-24T04:04:37.165019Z",
     "shell.execute_reply.started": "2021-10-24T04:03:12.247757Z"
    }
   },
   "outputs": [],
   "source": [
    "# Load older data\n",
    "solar_old = pd.read_csv(os.path.join(data_folder, \"old\", \"solar_wind.csv\"))\n",
    "dst_old = pd.read_csv(os.path.join(data_folder, \"old\", \"dst_labels.csv\"))\n",
    "sunspots_old = pd.read_csv(os.path.join(data_folder, \"old\", \"sunspots.csv\"))\n",
    "# Merge data - train on old and recent public data, test on recent private data\n",
    "solar_train_hourly = pd.concat([solar_train, solar_old], axis=0)\n",
    "sunspots_train_hourly = pd.concat([sunspots_train, sunspots_old], axis=0)\n",
    "dst_train_hourly = pd.concat([dst_train, dst_old], axis=0)\n",
    "solar_test_hourly = solar_test.copy()\n",
    "# Extract hourly data\n",
    "solar_train_hourly[\"timedelta\"] = pd.to_timedelta(solar_train_hourly[\"timedelta\"])\n",
    "solar_train_hourly = solar_train_hourly.loc[solar_train_hourly[\"timedelta\"].dt.seconds % 3600 == 0]\n",
    "solar_test_hourly[\"timedelta\"] = pd.to_timedelta(solar_test_hourly[\"timedelta\"])\n",
    "solar_test_hourly = solar_test_hourly.loc[solar_test_hourly[\"timedelta\"].dt.seconds % 3600 == 0]"
   ]
  },
  {
   "cell_type": "code",
   "execution_count": 6,
   "id": "b4ffd150",
   "metadata": {
    "execution": {
     "iopub.execute_input": "2021-10-24T04:04:37.166913Z",
     "iopub.status.busy": "2021-10-24T04:04:37.166657Z",
     "iopub.status.idle": "2021-10-24T04:11:40.052628Z",
     "shell.execute_reply": "2021-10-24T04:11:40.052104Z",
     "shell.execute_reply.started": "2021-10-24T04:04:37.166882Z"
    }
   },
   "outputs": [
    {
     "name": "stdout",
     "output_type": "stream",
     "text": [
      "Epoch 1/5\n",
      "13685/13685 [==============================] - 43s 3ms/step - loss: 459.0896 - root_mean_squared_error: 21.4088\n",
      "Epoch 2/5\n",
      "13685/13685 [==============================] - 42s 3ms/step - loss: 273.3560 - root_mean_squared_error: 16.5318\n",
      "Epoch 3/5\n",
      "13685/13685 [==============================] - 42s 3ms/step - loss: 245.9306 - root_mean_squared_error: 15.6818\n",
      "Epoch 4/5\n",
      "13685/13685 [==============================] - 42s 3ms/step - loss: 231.8302 - root_mean_squared_error: 15.2254\n",
      "Epoch 5/5\n",
      "13685/13685 [==============================] - 41s 3ms/step - loss: 223.1049 - root_mean_squared_error: 14.9361\n",
      "Epoch 1/5\n",
      "13685/13685 [==============================] - 42s 3ms/step - loss: 451.1764 - root_mean_squared_error: 21.2274\n",
      "Epoch 2/5\n",
      "13685/13685 [==============================] - 42s 3ms/step - loss: 284.9372 - root_mean_squared_error: 16.8779\n",
      "Epoch 3/5\n",
      "13685/13685 [==============================] - 42s 3ms/step - loss: 255.3248 - root_mean_squared_error: 15.9784\n",
      "Epoch 4/5\n",
      "13685/13685 [==============================] - 42s 3ms/step - loss: 241.8209 - root_mean_squared_error: 15.5501\n",
      "Epoch 5/5\n",
      "13685/13685 [==============================] - 41s 3ms/step - loss: 224.6634 - root_mean_squared_error: 14.9880\n"
     ]
    }
   ],
   "source": [
    "# train hourly model\n",
    "output_folder = os.path.join(\"trained_models\", \"cnn_hourly\", \"benchmark\")\n",
    "os.makedirs(output_folder, exist_ok=True)\n",
    "train_nn_models(solar_train_hourly, sunspots_train_hourly, dst_train_hourly, define_model_cnn_hourly, 1, output_folder, \"hour\")"
   ]
  },
  {
   "cell_type": "code",
   "execution_count": 7,
   "id": "f929711a",
   "metadata": {
    "execution": {
     "iopub.execute_input": "2021-10-24T04:11:40.053564Z",
     "iopub.status.busy": "2021-10-24T04:11:40.053402Z",
     "iopub.status.idle": "2021-10-24T04:12:48.485158Z",
     "shell.execute_reply": "2021-10-24T04:12:48.484417Z",
     "shell.execute_reply.started": "2021-10-24T04:11:40.053545Z"
    }
   },
   "outputs": [
    {
     "name": "stdout",
     "output_type": "stream",
     "text": [
      "RMSE for time t: 12.31\n",
      "RMSE for time t+1: 12.75\n"
     ]
    }
   ],
   "source": [
    "# measure performance - 1 minute model\n",
    "output_folder = os.path.join(\"trained_models\", \"cnn_1_minute\", \"benchmark\")\n",
    "model_t_arr, model_t_plus_1_arr, norm_df = load_models(output_folder, 1)\n",
    "dst_test[\"timedelta\"] = pd.to_timedelta(dst_test[\"timedelta\"])\n",
    "# exclude times in the first week of dst_test\n",
    "dst_test = dst_test.loc[dst_test[\"timedelta\"] >= dt.timedelta(days=7)]\n",
    "predictions = predict_batch(\n",
    "    solar_test, sunspots_test, dst_test, model_t_arr, model_t_plus_1_arr, norm_df, \"minute\"\n",
    ")\n",
    "dst_test_1_min = pd.merge(dst_test, predictions, \"left\", [\"timedelta\", \"period\"])\n",
    "dst_test_1_min[\"dst_t_plus_1\"] = dst_test_1_min.groupby(\"period\")[\"dst\"].shift(-1)\n",
    "loss_t = np.sqrt(\n",
    "    mean_squared_error(dst_test_1_min[\"dst\"].values, dst_test_1_min[\"prediction_t\"].values)\n",
    ")\n",
    "valid_ind = dst_test_1_min[\"dst_t_plus_1\"].notnull()\n",
    "loss_t_plus_1 = np.sqrt(\n",
    "    mean_squared_error(\n",
    "        dst_test_1_min.loc[valid_ind, \"dst_t_plus_1\"].values,\n",
    "        dst_test_1_min.loc[valid_ind, \"prediction_t_plus_1\"].values,\n",
    "    )\n",
    ")\n",
    "\n",
    "print(f\"RMSE for time t: {loss_t:0.2f}\")\n",
    "print(f\"RMSE for time t+1: {loss_t_plus_1:0.2f}\")\n"
   ]
  },
  {
   "cell_type": "code",
   "execution_count": 8,
   "id": "2e1f52bf",
   "metadata": {
    "execution": {
     "iopub.execute_input": "2021-10-24T04:12:48.486390Z",
     "iopub.status.busy": "2021-10-24T04:12:48.486212Z",
     "iopub.status.idle": "2021-10-24T04:12:51.244639Z",
     "shell.execute_reply": "2021-10-24T04:12:51.243905Z",
     "shell.execute_reply.started": "2021-10-24T04:12:48.486370Z"
    }
   },
   "outputs": [
    {
     "name": "stdout",
     "output_type": "stream",
     "text": [
      "RMSE for time t: 15.46\n",
      "RMSE for time t+1: 14.84\n"
     ]
    }
   ],
   "source": [
    "# measure performance - hourly model\n",
    "output_folder = os.path.join(\"trained_models\", \"cnn_hourly\", \"benchmark\")\n",
    "model_t_arr, model_t_plus_1_arr, norm_df = load_models(output_folder, 1)\n",
    "predictions = predict_batch(\n",
    "    solar_test_hourly, sunspots_test, dst_test, model_t_arr, model_t_plus_1_arr, norm_df, \"hour\"\n",
    ")\n",
    "dst_test_hourly = pd.merge(dst_test, predictions, \"left\", [\"timedelta\", \"period\"])\n",
    "dst_test_hourly[\"dst_t_plus_1\"] = dst_test_hourly.groupby(\"period\")[\"dst\"].shift(-1)\n",
    "loss_t = np.sqrt(\n",
    "    mean_squared_error(dst_test_hourly[\"dst\"].values, dst_test_hourly[\"prediction_t\"].values)\n",
    ")\n",
    "valid_ind = dst_test_hourly[\"dst_t_plus_1\"].notnull()\n",
    "loss_t_plus_1 = np.sqrt(\n",
    "    mean_squared_error(\n",
    "        dst_test_hourly.loc[valid_ind, \"dst_t_plus_1\"].values,\n",
    "        dst_test_hourly.loc[valid_ind, \"prediction_t_plus_1\"].values,\n",
    "    )\n",
    ")\n",
    "\n",
    "print(f\"RMSE for time t: {loss_t:0.2f}\")\n",
    "print(f\"RMSE for time t+1: {loss_t_plus_1:0.2f}\")"
   ]
  },
  {
   "cell_type": "code",
   "execution_count": 34,
   "id": "25e5467e",
   "metadata": {
    "execution": {
     "iopub.execute_input": "2021-10-24T04:34:35.974016Z",
     "iopub.status.busy": "2021-10-24T04:34:35.973761Z",
     "iopub.status.idle": "2021-10-24T04:34:36.017171Z",
     "shell.execute_reply": "2021-10-24T04:34:36.016470Z",
     "shell.execute_reply.started": "2021-10-24T04:34:35.973991Z"
    }
   },
   "outputs": [
    {
     "name": "stdout",
     "output_type": "stream",
     "text": [
      "RMSE for time t: 12.86\n",
      "RMSE for time t+1: 13.05\n"
     ]
    }
   ],
   "source": [
    "# blend the two models\n",
    "dst_test_blend = dst_test_hourly.copy()\n",
    "hourly_weight = 0.5\n",
    "dst_test_blend[\"prediction_t\"] = dst_test_hourly[\"prediction_t\"] * hourly_weight + dst_test_1_min[\"prediction_t\"] * (1 - hourly_weight)\n",
    "dst_test_blend[\"prediction_t_plus_1\"] = dst_test_hourly[\"prediction_t_plus_1\"] * hourly_weight + dst_test_1_min[\"prediction_t_plus_1\"] * (1 - hourly_weight)\n",
    "\n",
    "loss_t = np.sqrt(\n",
    "    mean_squared_error(dst_test_blend[\"dst\"].values, dst_test_blend[\"prediction_t\"].values)\n",
    ")\n",
    "valid_ind = dst_test_blend[\"dst_t_plus_1\"].notnull()\n",
    "loss_t_plus_1 = np.sqrt(\n",
    "    mean_squared_error(\n",
    "        dst_test_blend.loc[valid_ind, \"dst_t_plus_1\"].values,\n",
    "        dst_test_blend.loc[valid_ind, \"prediction_t_plus_1\"].values,\n",
    "    )\n",
    ")\n",
    "\n",
    "print(f\"RMSE for time t: {loss_t:0.2f}\")\n",
    "print(f\"RMSE for time t+1: {loss_t_plus_1:0.2f}\")"
   ]
  },
  {
   "cell_type": "code",
   "execution_count": 35,
   "id": "7bc3b98b",
   "metadata": {
    "execution": {
     "iopub.execute_input": "2021-10-24T04:34:42.029078Z",
     "iopub.status.busy": "2021-10-24T04:34:42.028856Z",
     "iopub.status.idle": "2021-10-24T04:34:42.247192Z",
     "shell.execute_reply": "2021-10-24T04:34:42.246653Z",
     "shell.execute_reply.started": "2021-10-24T04:34:42.029056Z"
    }
   },
   "outputs": [
    {
     "data": {
      "text/plain": [
       "<matplotlib.legend.Legend at 0x7f4c31bea940>"
      ]
     },
     "execution_count": 35,
     "metadata": {},
     "output_type": "execute_result"
    },
    {
     "data": {
      "image/png": "[encoded data removed]",
      "text/plain": [
       "<Figure size 1080x864 with 1 Axes>"
      ]
     },
     "metadata": {
      "needs_background": "light"
     },
     "output_type": "display_data"
    }
   ],
   "source": [
    "# plot errors in different DST ranges\n",
    "plt.figure(figsize=(15, 12))\n",
    "bins = [-np.inf, -300, -200, -100, -50, 0, np.inf]\n",
    "plot_binned_RMSE(dst_test_1_min.loc[valid_ind, \"dst\"].values, dst_test_1_min.loc[valid_ind, \"prediction_t\"].values, bins)\n",
    "plot_binned_RMSE(dst_test_hourly.loc[valid_ind, \"dst\"].values, dst_test_hourly.loc[valid_ind, \"prediction_t\"].values, bins)\n",
    "plot_binned_RMSE(dst_test_blend.loc[valid_ind, \"dst\"].values, dst_test_blend.loc[valid_ind, \"prediction_t\"].values, bins)\n",
    "plt.legend([\"1-minute\", \"hour\", \"blend\"])"
   ]
  },
  {
   "cell_type": "code",
   "execution_count": 24,
   "id": "2b4a6880",
   "metadata": {
    "execution": {
     "iopub.execute_input": "2021-10-24T04:27:29.077618Z",
     "iopub.status.busy": "2021-10-24T04:27:29.077398Z",
     "iopub.status.idle": "2021-10-24T04:27:29.125489Z",
     "shell.execute_reply": "2021-10-24T04:27:29.124840Z",
     "shell.execute_reply.started": "2021-10-24T04:27:29.077596Z"
    }
   },
   "outputs": [
    {
     "data": {
      "text/html": [
       "<div>\n",
       "<style scoped>\n",
       "    .dataframe tbody tr th:only-of-type {\n",
       "        vertical-align: middle;\n",
       "    }\n",
       "\n",
       "    .dataframe tbody tr th {\n",
       "        vertical-align: top;\n",
       "    }\n",
       "\n",
       "    .dataframe thead th {\n",
       "        text-align: right;\n",
       "    }\n",
       "</style>\n",
       "<table border=\"1\" class=\"dataframe\">\n",
       "  <thead>\n",
       "    <tr style=\"text-align: right;\">\n",
       "      <th></th>\n",
       "      <th>size</th>\n",
       "    </tr>\n",
       "    <tr>\n",
       "      <th>bin</th>\n",
       "      <th></th>\n",
       "    </tr>\n",
       "  </thead>\n",
       "  <tbody>\n",
       "    <tr>\n",
       "      <th>(-inf, -300.0]</th>\n",
       "      <td>17</td>\n",
       "    </tr>\n",
       "    <tr>\n",
       "      <th>(-300.0, -200.0]</th>\n",
       "      <td>33</td>\n",
       "    </tr>\n",
       "    <tr>\n",
       "      <th>(-200.0, -100.0]</th>\n",
       "      <td>436</td>\n",
       "    </tr>\n",
       "    <tr>\n",
       "      <th>(-100.0, -50.0]</th>\n",
       "      <td>2516</td>\n",
       "    </tr>\n",
       "    <tr>\n",
       "      <th>(-50.0, 0.0]</th>\n",
       "      <td>43220</td>\n",
       "    </tr>\n",
       "    <tr>\n",
       "      <th>(0.0, inf]</th>\n",
       "      <td>12455</td>\n",
       "    </tr>\n",
       "  </tbody>\n",
       "</table>\n",
       "</div>"
      ],
      "text/plain": [
       "                   size\n",
       "bin                    \n",
       "(-inf, -300.0]       17\n",
       "(-300.0, -200.0]     33\n",
       "(-200.0, -100.0]    436\n",
       "(-100.0, -50.0]    2516\n",
       "(-50.0, 0.0]      43220\n",
       "(0.0, inf]        12455"
      ]
     },
     "execution_count": 24,
     "metadata": {},
     "output_type": "execute_result"
    }
   ],
   "source": [
    "# size of ranges\n",
    "bin_id = pd.cut(dst_test_1_min.loc[valid_ind, \"dst\"], bins).to_frame(\"bin\")\n",
    "bin_id.groupby(\"bin\").size().to_frame(\"size\")"
   ]
  },
  {
   "cell_type": "code",
   "execution_count": null,
   "id": "c3412a35",
   "metadata": {},
   "outputs": [],
   "source": []
  }
 ],
 "metadata": {
  "kernelspec": {
   "display_name": "saturn (Python 3)",
   "language": "python",
   "name": "python3"
  },
  "language_info": {
   "codemirror_mode": {
    "name": "ipython",
    "version": 3
   },
   "file_extension": ".py",
   "mimetype": "text/x-python",
   "name": "python",
   "nbconvert_exporter": "python",
   "pygments_lexer": "ipython3",
   "version": "3.9.5"
  }
 },
 "nbformat": 4,
 "nbformat_minor": 5
}
