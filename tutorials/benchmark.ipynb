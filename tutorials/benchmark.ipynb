{
  "cells": [
    {
      "cell_type": "markdown",
      "source": [
        "# NOTE: This Colaboratory notebook is a copy from Lily's MagNet Github:\n",
        "https://colab.research.google.com/github/liyo6397/MagNet/blob/master/benchmark.ipynb"
      ],
      "metadata": {
        "id": "vXNwJ3WIRBMe"
      },
      "id": "vXNwJ3WIRBMe"
    },
    {
      "cell_type": "markdown",
      "source": [
        "## <<< Clone Lily's MagNet GitHub Repo for Dependencies"
      ],
      "metadata": {
        "id": "CkioY6yJGL5f"
      },
      "id": "CkioY6yJGL5f"
    },
    {
      "cell_type": "code",
      "source": [
        "!git clone https://github.com/liyo6397/MagNet.git"
      ],
      "metadata": {
        "colab": {
          "base_uri": "https://localhost:8080/"
        },
        "id": "Xiq3lkWlEdDa",
        "outputId": "11a58805-1c44-41a6-bcff-4b07cb032cbb"
      },
      "id": "Xiq3lkWlEdDa",
      "execution_count": null,
      "outputs": [
        {
          "output_type": "stream",
          "name": "stdout",
          "text": [
            "Cloning into 'MagNet'...\n",
            "remote: Enumerating objects: 447, done.\u001b[K\n",
            "remote: Counting objects: 100% (72/72), done.\u001b[K\n",
            "remote: Compressing objects: 100% (55/55), done.\u001b[K\n",
            "remote: Total 447 (delta 13), reused 64 (delta 11), pack-reused 375\u001b[K\n",
            "Receiving objects: 100% (447/447), 797.81 MiB | 23.24 MiB/s, done.\n",
            "Resolving deltas: 100% (175/175), done.\n",
            "Checking out files: 100% (81/81), done.\n"
          ]
        }
      ]
    },
    {
      "cell_type": "code",
      "source": [
        "import sys\n",
        "sys.path.insert(0,'/content/MagNet')"
      ],
      "metadata": {
        "id": "T0N0LQW3FLw3"
      },
      "id": "T0N0LQW3FLw3",
      "execution_count": null,
      "outputs": []
    },
    {
      "cell_type": "markdown",
      "source": [
        "## >>> DONE Cloning MagNet Repo"
      ],
      "metadata": {
        "id": "mNRKkh1jGpqs"
      },
      "id": "mNRKkh1jGpqs"
    },
    {
      "cell_type": "markdown",
      "source": [
        "# Benchmark neural network models"
      ],
      "metadata": {
        "id": "BnT7a-5HQYLU"
      },
      "id": "BnT7a-5HQYLU"
    },
    {
      "cell_type": "code",
      "execution_count": null,
      "id": "9ae5129d",
      "metadata": {
        "execution": {
          "iopub.execute_input": "2021-10-16T01:47:09.731993Z",
          "iopub.status.busy": "2021-10-16T01:47:09.731728Z",
          "iopub.status.idle": "2021-10-16T01:47:09.734885Z",
          "shell.execute_reply": "2021-10-16T01:47:09.734374Z",
          "shell.execute_reply.started": "2021-10-16T01:47:09.731953Z"
        },
        "id": "9ae5129d"
      },
      "outputs": [],
      "source": [
        "# Benchmark neural network models"
      ]
    },
    {
      "cell_type": "code",
      "execution_count": null,
      "id": "bd53da7a",
      "metadata": {
        "execution": {
          "iopub.execute_input": "2021-10-16T01:47:09.735969Z",
          "iopub.status.busy": "2021-10-16T01:47:09.735810Z",
          "iopub.status.idle": "2021-10-16T01:47:11.449886Z",
          "shell.execute_reply": "2021-10-16T01:47:11.449012Z",
          "shell.execute_reply.started": "2021-10-16T01:47:09.735952Z"
        },
        "id": "bd53da7a"
      },
      "outputs": [],
      "source": [
        "import os\n",
        "import datetime as dt\n",
        "import numpy as np\n",
        "import pandas as pd\n",
        "from sklearn.metrics import mean_squared_error\n",
        "from model_definitions import define_model_cnn_1_min, define_model_lstm_hourly\n",
        "from predict import load_models, predict_batch\n",
        "from train import train_nn_models\n",
        "import time\n",
        "from typing import Callable, Tuple\n",
        "import tensorflow as tf\n",
        "import matplotlib.pyplot as plt"
      ]
    },
    {
      "cell_type": "code",
      "execution_count": null,
      "id": "e373673a",
      "metadata": {
        "execution": {
          "iopub.execute_input": "2021-10-16T01:47:11.451305Z",
          "iopub.status.busy": "2021-10-16T01:47:11.451129Z",
          "iopub.status.idle": "2021-10-16T01:47:11.453712Z",
          "shell.execute_reply": "2021-10-16T01:47:11.453162Z",
          "shell.execute_reply.started": "2021-10-16T01:47:11.451285Z"
        },
        "id": "e373673a",
        "colab": {
          "base_uri": "https://localhost:8080/"
        },
        "outputId": "4c85c4d9-2532-4484-f8f0-c51b94d899f4"
      },
      "outputs": [
        {
          "output_type": "stream",
          "name": "stdout",
          "text": [
            "--2022-07-21 19:14:09--  https://ngdc.noaa.gov/geomag/data/geomag/magnet/public.zip\n",
            "Resolving ngdc.noaa.gov (ngdc.noaa.gov)... 140.172.190.1\n",
            "Connecting to ngdc.noaa.gov (ngdc.noaa.gov)|140.172.190.1|:443... connected.\n",
            "HTTP request sent, awaiting response... 200 OK\n",
            "Length: 287399979 (274M) [application/zip]\n",
            "Saving to: ‘public.zip’\n",
            "\n",
            "public.zip          100%[===================>] 274.09M  6.49MB/s    in 44s     \n",
            "\n",
            "2022-07-21 19:14:53 (6.29 MB/s) - ‘public.zip’ saved [287399979/287399979]\n",
            "\n",
            "Archive:  public.zip\n",
            "   creating: public/\n",
            "  inflating: public/sunspots.csv     \n",
            "  inflating: public/satellite_positions.csv  \n",
            "  inflating: public/dst_labels.csv   \n",
            "  inflating: public/solar_wind.csv   \n",
            "--2022-07-21 19:15:04--  https://ngdc.noaa.gov/geomag/data/geomag/magnet/private.zip\n",
            "Resolving ngdc.noaa.gov (ngdc.noaa.gov)... 140.172.190.1\n",
            "Connecting to ngdc.noaa.gov (ngdc.noaa.gov)|140.172.190.1|:443... connected.\n",
            "HTTP request sent, awaiting response... 200 OK\n",
            "Length: 112217628 (107M) [application/zip]\n",
            "Saving to: ‘private.zip’\n",
            "\n",
            "private.zip         100%[===================>] 107.02M  6.59MB/s    in 16s     \n",
            "\n",
            "2022-07-21 19:15:21 (6.66 MB/s) - ‘private.zip’ saved [112217628/112217628]\n",
            "\n",
            "Archive:  private.zip\n",
            "   creating: private/\n",
            "  inflating: private/dst_labels.csv  \n",
            "  inflating: private/satellite_positions.csv  \n",
            "  inflating: private/solar_wind.csv  \n",
            "  inflating: private/sunspots.csv    \n"
          ]
        }
      ],
      "source": [
        "# download and save data\n",
        "!wget https://ngdc.noaa.gov/geomag/data/geomag/magnet/public.zip\n",
        "!unzip public.zip\n",
        "!wget https://ngdc.noaa.gov/geomag/data/geomag/magnet/private.zip\n",
        "!unzip private.zip\n",
        "!mkdir data\n",
        "!mv public data\n",
        "!mv private data"
      ]
    },
    {
      "cell_type": "code",
      "execution_count": null,
      "id": "d3c4c69b",
      "metadata": {
        "execution": {
          "iopub.execute_input": "2021-10-16T01:47:11.456682Z",
          "iopub.status.busy": "2021-10-16T01:47:11.456489Z",
          "iopub.status.idle": "2021-10-16T01:47:28.188544Z",
          "shell.execute_reply": "2021-10-16T01:47:28.187944Z",
          "shell.execute_reply.started": "2021-10-16T01:47:11.456659Z"
        },
        "id": "d3c4c69b"
      },
      "outputs": [],
      "source": [
        "# load data\n",
        "data_folder = \"data\"\n",
        "solar_train = pd.read_csv(os.path.join(data_folder, \"public\", \"solar_wind.csv\"))\n",
        "dst_train = pd.read_csv(os.path.join(data_folder, \"public\", \"dst_labels.csv\"))\n",
        "sunspots_train = pd.read_csv(os.path.join(data_folder, \"public\", \"sunspots.csv\"))\n",
        "solar_test = pd.read_csv(os.path.join(data_folder, \"private\", \"solar_wind.csv\"))\n",
        "dst_test = pd.read_csv(os.path.join(data_folder, \"private\", \"dst_labels.csv\"))\n",
        "sunspots_test = pd.read_csv(os.path.join(data_folder, \"private\", \"sunspots.csv\"))"
      ]
    },
    {
      "cell_type": "code",
      "execution_count": null,
      "id": "51440806",
      "metadata": {
        "execution": {
          "iopub.execute_input": "2021-10-16T01:47:28.189781Z",
          "iopub.status.busy": "2021-10-16T01:47:28.189533Z",
          "iopub.status.idle": "2021-10-16T01:47:28.192541Z",
          "shell.execute_reply": "2021-10-16T01:47:28.191993Z",
          "shell.execute_reply.started": "2021-10-16T01:47:28.189751Z"
        },
        "id": "51440806"
      },
      "outputs": [],
      "source": [
        "# train and save model: CNN\n",
        "output_folder = os.path.join(\"MagNet\",\"trained_models\", \"cnn_1_min\", \"benchmark\")\n",
        "# os.makedirs(output_folder, exist_ok=True)\n",
        "# # comment out training if model is already saved on disk\n",
        "# train_nn_models(solar_train, sunspots_train, dst_train, define_model_cnn, 1, output_folder)"
      ]
    },
    {
      "cell_type": "code",
      "execution_count": null,
      "id": "900c2753",
      "metadata": {
        "execution": {
          "iopub.execute_input": "2021-10-16T01:47:28.193520Z",
          "iopub.status.busy": "2021-10-16T01:47:28.193363Z",
          "iopub.status.idle": "2021-10-16T01:47:28.197500Z",
          "shell.execute_reply": "2021-10-16T01:47:28.196968Z",
          "shell.execute_reply.started": "2021-10-16T01:47:28.193502Z"
        },
        "id": "900c2753"
      },
      "outputs": [],
      "source": [
        "# train and save model: LSTM\n",
        "#output_folder = os.path.join(\"trained_models\", \"lstm\", \"benchmark\")\n",
        "# os.makedirs(output_folder, exist_ok=True)\n",
        "# # comment out training if model is already saved on disk\n",
        "# train_nn_models(solar_train, sunspots_train, dst_train, define_model_lstm, 1, output_folder)"
      ]
    },
    {
      "cell_type": "code",
      "execution_count": null,
      "id": "e3f791ac",
      "metadata": {
        "execution": {
          "iopub.execute_input": "2021-10-16T01:47:28.198467Z",
          "iopub.status.busy": "2021-10-16T01:47:28.198308Z",
          "iopub.status.idle": "2021-10-16T01:49:19.194082Z",
          "shell.execute_reply": "2021-10-16T01:49:19.193151Z",
          "shell.execute_reply.started": "2021-10-16T01:47:28.198450Z"
        },
        "id": "e3f791ac",
        "outputId": "f89d6d63-753a-464f-d1fb-e19cf37dcaf9",
        "colab": {
          "base_uri": "https://localhost:8080/"
        }
      },
      "outputs": [
        {
          "output_type": "stream",
          "name": "stdout",
          "text": [
            "RMSE for time t: 12.34\n",
            "RMSE for time t+1: 12.76\n",
            "Prediction time: 103.9s\n"
          ]
        }
      ],
      "source": [
        "# measure performance on train and test\n",
        "t = time.time()\n",
        "model_t_arr, model_t_plus_1_arr, norm_df = load_models(output_folder, 1)\n",
        "dst_test[\"timedelta\"] = pd.to_timedelta(dst_test[\"timedelta\"])\n",
        "# exclude times in the first week of dst_test\n",
        "dst_test = dst_test.loc[dst_test[\"timedelta\"] >= dt.timedelta(days=7)]\n",
        "frequency = \"minute\" #minute for cnn; hour for lstm\n",
        "predictions = predict_batch(\n",
        "    solar_test, sunspots_test, dst_test, model_t_arr, model_t_plus_1_arr, norm_df, frequency\n",
        ")\n",
        "dst_test = pd.merge(dst_test, predictions, \"left\", [\"timedelta\", \"period\"])\n",
        "dst_test[\"dst_t_plus_1\"] = dst_test.groupby(\"period\")[\"dst\"].shift(-1)\n",
        "loss_t = np.sqrt(\n",
        "    mean_squared_error(dst_test[\"dst\"].values, dst_test[\"prediction_t\"].values)\n",
        ")\n",
        "valid_ind = dst_test[\"dst_t_plus_1\"].notnull()\n",
        "loss_t_plus_1 = np.sqrt(\n",
        "    mean_squared_error(\n",
        "        dst_test.loc[valid_ind, \"dst_t_plus_1\"].values,\n",
        "        dst_test.loc[valid_ind, \"prediction_t_plus_1\"].values,\n",
        "    )\n",
        ")\n",
        "prediction_time = time.time() - t\n",
        "\n",
        "print(f\"RMSE for time t: {loss_t:0.2f}\")\n",
        "print(f\"RMSE for time t+1: {loss_t_plus_1:0.2f}\")\n",
        "print(f\"Prediction time: {prediction_time:0.1f}s\")\n"
      ]
    },
    {
      "cell_type": "code",
      "execution_count": null,
      "id": "c2bb8f05",
      "metadata": {
        "execution": {
          "iopub.status.busy": "2021-10-16T01:49:19.194964Z",
          "iopub.status.idle": "2021-10-16T01:49:19.195201Z",
          "shell.execute_reply": "2021-10-16T01:49:19.195085Z"
        },
        "id": "c2bb8f05",
        "colab": {
          "base_uri": "https://localhost:8080/",
          "height": 286
        },
        "outputId": "0a159f13-a0a2-4923-b88b-edd9fd2f8755"
      },
      "outputs": [
        {
          "output_type": "execute_result",
          "data": {
            "text/plain": [
              "<matplotlib.legend.Legend at 0x7fc8484c1150>"
            ]
          },
          "metadata": {},
          "execution_count": 10
        },
        {
          "output_type": "display_data",
          "data": {
            "text/plain": [
              "<Figure size 432x288 with 1 Axes>"
            ],
            "image/png": "[encoded data removed]"
          },
          "metadata": {
            "needs_background": "light"
          }
        }
      ],
      "source": [
        "plt.figure()\n",
        "plt.plot(dst_test.loc[valid_ind, \"dst\"].values)\n",
        "plt.plot(dst_test.loc[valid_ind, \"prediction_t\"].values)\n",
        "plt.legend([\"actual\", \"predicted\"])"
      ]
    },
    {
      "cell_type": "code",
      "execution_count": null,
      "id": "28954ea6",
      "metadata": {
        "id": "28954ea6"
      },
      "outputs": [],
      "source": [
        ""
      ]
    }
  ],
  "metadata": {
    "kernelspec": {
      "display_name": "Python 3",
      "language": "python",
      "name": "python3"
    },
    "language_info": {
      "codemirror_mode": {
        "name": "ipython",
        "version": 3
      },
      "file_extension": ".py",
      "mimetype": "text/x-python",
      "name": "python",
      "nbconvert_exporter": "python",
      "pygments_lexer": "ipython3",
      "version": "3.8.8"
    },
    "colab": {
      "name": "Rob's Copy of benchmark.ipynb",
      "provenance": [],
      "collapsed_sections": []
    }
  },
  "nbformat": 4,
  "nbformat_minor": 5
}