{
 "cells": [
  {
   "cell_type": "code",
   "execution_count": 1,
   "id": "9ae5129d",
   "metadata": {
    "execution": {
     "iopub.execute_input": "2021-10-16T01:47:09.731993Z",
     "iopub.status.busy": "2021-10-16T01:47:09.731728Z",
     "iopub.status.idle": "2021-10-16T01:47:09.734885Z",
     "shell.execute_reply": "2021-10-16T01:47:09.734374Z",
     "shell.execute_reply.started": "2021-10-16T01:47:09.731953Z"
    }
   },
   "outputs": [],
   "source": [
    "# Benchmark neural network models"
   ]
  },
  {
   "cell_type": "code",
   "execution_count": 2,
   "id": "bd53da7a",
   "metadata": {
    "execution": {
     "iopub.execute_input": "2021-10-16T01:47:09.735969Z",
     "iopub.status.busy": "2021-10-16T01:47:09.735810Z",
     "iopub.status.idle": "2021-10-16T01:47:11.449886Z",
     "shell.execute_reply": "2021-10-16T01:47:11.449012Z",
     "shell.execute_reply.started": "2021-10-16T01:47:09.735952Z"
    }
   },
   "outputs": [],
   "source": [
    "import os\n",
    "import datetime as dt\n",
    "import numpy as np\n",
    "import pandas as pd\n",
    "from sklearn.metrics import mean_squared_error\n",
    "from model_definitions import define_model_cnn, define_model_lstm\n",
    "from predict import load_models, predict_batch\n",
    "from train import train_nn_models\n",
    "import time\n",
    "from typing import Callable, Tuple\n",
    "import tensorflow as tf\n"
   ]
  },
  {
   "cell_type": "code",
   "execution_count": 3,
   "id": "e373673a",
   "metadata": {
    "execution": {
     "iopub.execute_input": "2021-10-16T01:47:11.451305Z",
     "iopub.status.busy": "2021-10-16T01:47:11.451129Z",
     "iopub.status.idle": "2021-10-16T01:47:11.453712Z",
     "shell.execute_reply": "2021-10-16T01:47:11.453162Z",
     "shell.execute_reply.started": "2021-10-16T01:47:11.451285Z"
    }
   },
   "outputs": [],
   "source": [
    "# download and save data\n",
    "# !wget https://ngdc.noaa.gov/geomag/data/geomag/magnet/public.zip\n",
    "# !unzip public.zip\n",
    "# !wget https://ngdc.noaa.gov/geomag/data/geomag/magnet/private.zip\n",
    "# !unzip private.zip\n",
    "# !mkdir data\n",
    "# !mv public data\n",
    "# !mv private data"
   ]
  },
  {
   "cell_type": "code",
   "execution_count": 4,
   "id": "d3c4c69b",
   "metadata": {
    "execution": {
     "iopub.execute_input": "2021-10-16T01:47:11.456682Z",
     "iopub.status.busy": "2021-10-16T01:47:11.456489Z",
     "iopub.status.idle": "2021-10-16T01:47:28.188544Z",
     "shell.execute_reply": "2021-10-16T01:47:28.187944Z",
     "shell.execute_reply.started": "2021-10-16T01:47:11.456659Z"
    }
   },
   "outputs": [],
   "source": [
    "# load data\n",
    "data_folder = \"data\"\n",
    "solar_train = pd.read_csv(os.path.join(data_folder, \"public\", \"solar_wind.csv\"))\n",
    "dst_train = pd.read_csv(os.path.join(data_folder, \"public\", \"dst_labels.csv\"))\n",
    "sunspots_train = pd.read_csv(os.path.join(data_folder, \"public\", \"sunspots.csv\"))\n",
    "solar_test = pd.read_csv(os.path.join(data_folder, \"private\", \"solar_wind.csv\"))\n",
    "dst_test = pd.read_csv(os.path.join(data_folder, \"private\", \"dst_labels.csv\"))\n",
    "sunspots_test = pd.read_csv(os.path.join(data_folder, \"private\", \"sunspots.csv\"))"
   ]
  },
  {
   "cell_type": "code",
   "execution_count": 5,
   "id": "51440806",
   "metadata": {
    "execution": {
     "iopub.execute_input": "2021-10-16T01:47:28.189781Z",
     "iopub.status.busy": "2021-10-16T01:47:28.189533Z",
     "iopub.status.idle": "2021-10-16T01:47:28.192541Z",
     "shell.execute_reply": "2021-10-16T01:47:28.191993Z",
     "shell.execute_reply.started": "2021-10-16T01:47:28.189751Z"
    }
   },
   "outputs": [],
   "source": [
    "# train and save model: CNN\n",
    "# output_folder = os.path.join(\"trained_models\", \"cnn\", \"benchmark\")\n",
    "# os.makedirs(output_folder, exist_ok=True)\n",
    "# # comment out training if model is already saved on disk\n",
    "# train_nn_models(solar_train, sunspots_train, dst_train, define_model_cnn, 1, output_folder)"
   ]
  },
  {
   "cell_type": "code",
   "execution_count": 6,
   "id": "900c2753",
   "metadata": {
    "execution": {
     "iopub.execute_input": "2021-10-16T01:47:28.193520Z",
     "iopub.status.busy": "2021-10-16T01:47:28.193363Z",
     "iopub.status.idle": "2021-10-16T01:47:28.197500Z",
     "shell.execute_reply": "2021-10-16T01:47:28.196968Z",
     "shell.execute_reply.started": "2021-10-16T01:47:28.193502Z"
    }
   },
   "outputs": [],
   "source": [
    "# train and save model: LSTM\n",
    "output_folder = os.path.join(\"trained_models\", \"lstm\", \"benchmark\")\n",
    "# os.makedirs(output_folder, exist_ok=True)\n",
    "# # comment out training if model is already saved on disk\n",
    "# train_nn_models(solar_train, sunspots_train, dst_train, define_model_lstm, 1, output_folder)"
   ]
  },
  {
   "cell_type": "code",
   "execution_count": 7,
   "id": "e3f791ac",
   "metadata": {
    "execution": {
     "iopub.execute_input": "2021-10-16T01:47:28.198467Z",
     "iopub.status.busy": "2021-10-16T01:47:28.198308Z",
     "iopub.status.idle": "2021-10-16T01:49:19.194082Z",
     "shell.execute_reply": "2021-10-16T01:49:19.193151Z",
     "shell.execute_reply.started": "2021-10-16T01:47:28.198450Z"
    }
   },
   "outputs": [
    {
     "name": "stdout",
     "output_type": "stream",
     "text": [
      "RMSE for time t: 13.78\n",
      "RMSE for time t+1: 14.26\n"
     ]
    },
    {
     "ename": "NameError",
     "evalue": "name 'training_time' is not defined",
     "output_type": "error",
     "traceback": [
      "\u001b[0;31m---------------------------------------------------------------------------\u001b[0m",
      "\u001b[0;31mNameError\u001b[0m                                 Traceback (most recent call last)",
      "\u001b[0;32m<ipython-input-7-2666f2d3e218>\u001b[0m in \u001b[0;36m<module>\u001b[0;34m\u001b[0m\n\u001b[1;32m     26\u001b[0m \u001b[0mprint\u001b[0m\u001b[0;34m(\u001b[0m\u001b[0;34mf\"RMSE for time t: {loss_t:0.2f}\"\u001b[0m\u001b[0;34m)\u001b[0m\u001b[0;34m\u001b[0m\u001b[0;34m\u001b[0m\u001b[0m\n\u001b[1;32m     27\u001b[0m \u001b[0mprint\u001b[0m\u001b[0;34m(\u001b[0m\u001b[0;34mf\"RMSE for time t+1: {loss_t_plus_1:0.2f}\"\u001b[0m\u001b[0;34m)\u001b[0m\u001b[0;34m\u001b[0m\u001b[0;34m\u001b[0m\u001b[0m\n\u001b[0;32m---> 28\u001b[0;31m \u001b[0mprint\u001b[0m\u001b[0;34m(\u001b[0m\u001b[0;34mf\"Training time: {training_time:0.1f}s\"\u001b[0m\u001b[0;34m)\u001b[0m\u001b[0;34m\u001b[0m\u001b[0;34m\u001b[0m\u001b[0m\n\u001b[0m\u001b[1;32m     29\u001b[0m \u001b[0mprint\u001b[0m\u001b[0;34m(\u001b[0m\u001b[0;34mf\"Prediction time: {prediction_time:0.1f}s\"\u001b[0m\u001b[0;34m)\u001b[0m\u001b[0;34m\u001b[0m\u001b[0;34m\u001b[0m\u001b[0m\n",
      "\u001b[0;31mNameError\u001b[0m: name 'training_time' is not defined"
     ]
    }
   ],
   "source": [
    "# measure performance on train and test\n",
    "t = time.time()\n",
    "model_t_arr, model_t_plus_1_arr, norm_df = load_models(output_folder, 1)\n",
    "dst_test[\"timedelta\"] = pd.to_timedelta(dst_test[\"timedelta\"])\n",
    "# exclude times in the first week of dst_test\n",
    "dst_test = dst_test.loc[dst_test[\"timedelta\"] >= dt.timedelta(days=7)]\n",
    "predictions = predict_batch(\n",
    "    solar_test, sunspots_test, dst_test, model_t_arr, model_t_plus_1_arr, norm_df\n",
    ")\n",
    "dst_test = pd.merge(dst_test, predictions, \"left\", [\"timedelta\", \"period\"])\n",
    "dst_test[\"dst_t_plus_1\"] = dst_test.groupby(\"period\")[\"dst\"].shift(-1)\n",
    "loss_t = np.sqrt(\n",
    "    mean_squared_error(dst_test[\"dst\"].values, dst_test[\"prediction_t\"].values)\n",
    ")\n",
    "valid_ind = dst_test[\"dst_t_plus_1\"].notnull()\n",
    "loss_t_plus_1 = np.sqrt(\n",
    "    mean_squared_error(\n",
    "        dst_test.loc[valid_ind, \"dst_t_plus_1\"].values,\n",
    "        dst_test.loc[valid_ind, \"prediction_t_plus_1\"].values,\n",
    "    )\n",
    ")\n",
    "prediction_time = time.time() - t\n",
    "\n",
    "print(f\"RMSE for time t: {loss_t:0.2f}\")\n",
    "print(f\"RMSE for time t+1: {loss_t_plus_1:0.2f}\")\n",
    "print(f\"Prediction time: {prediction_time:0.1f}s\")\n"
   ]
  },
  {
   "cell_type": "code",
   "execution_count": null,
   "id": "c2bb8f05",
   "metadata": {
    "execution": {
     "iopub.status.busy": "2021-10-16T01:49:19.194964Z",
     "iopub.status.idle": "2021-10-16T01:49:19.195201Z",
     "shell.execute_reply": "2021-10-16T01:49:19.195085Z"
    }
   },
   "outputs": [],
   "source": [
    "plt.figure()\n",
    "plt.plot(dst_test.loc[valid_ind, \"dst\"].values)\n",
    "plt.plot(dst_test.loc[valid_ind, \"prediction_t\"].values)\n",
    "plt.legend([\"actual\", \"predicted\"])"
   ]
  },
  {
   "cell_type": "code",
   "execution_count": null,
   "id": "28954ea6",
   "metadata": {},
   "outputs": [],
   "source": []
  }
 ],
 "metadata": {
  "kernelspec": {
   "display_name": "Python 3",
   "language": "python",
   "name": "python3"
  },
  "language_info": {
   "codemirror_mode": {
    "name": "ipython",
    "version": 3
   },
   "file_extension": ".py",
   "mimetype": "text/x-python",
   "name": "python",
   "nbconvert_exporter": "python",
   "pygments_lexer": "ipython3",
   "version": "3.8.8"
  }
 },
 "nbformat": 4,
 "nbformat_minor": 5
}
